{
 "cells": [
  {
   "cell_type": "markdown",
   "metadata": {},
   "source": [
    "### Predictive Modeling Project Template"
   ]
  },
  {
   "cell_type": "markdown",
   "metadata": {},
   "source": [
    "`Applied machine learning` is an `empirical skill`. You cannot get better at it by **reading books and articles**. You have to `practice`. We will discover the `simple six-step machine learning project template` that you can use to jump-start your project in Python.\n",
    "\n",
    "Objectives:\n",
    "* How to structure an end-to-end predictive modeling project.\n",
    "* How to map the tasks you learned about onto a project.\n",
    "* How to best use the structured project template to ensure an accurate result for your dataset."
   ]
  },
  {
   "cell_type": "markdown",
   "metadata": {},
   "source": [
    "### Practice Machine Learning With Projects\n",
    "\n",
    "Working through `machine learning problems` from `end-to-end` is critically important. You can\n",
    "`read about machine learning`. You can also try out `small one-off recipes`. But `applied machine learning` will not come alive for you until you work through a dataset from beginning to end.\n",
    "\n",
    "Working through a project forces you to think about how the `model will be used`, to challenge\n",
    "your `assumptions` and to get good at all parts of a project, not just your favorite parts. The best\n",
    "way to `practice predictive modeling machine learning projects` is to use `standardized datasets`\n",
    "from the `UCI Machine Learning Repository`. Once you have a `practice dataset` and a bunch of\n",
    "`Python recipes`, how do you put it all together and work through the problem end-to-end?"
   ]
  },
  {
   "cell_type": "markdown",
   "metadata": {},
   "source": [
    "#### Use A Structured Step-By-Step Process"
   ]
  },
  {
   "cell_type": "markdown",
   "metadata": {},
   "source": [
    "Any `predictive modeling machine learning project` can be broken down into six common tasks:\n",
    "\n",
    "* Define Problem.\n",
    "* Summarize Data.\n",
    "* Prepare Data.\n",
    "* Evaluate Algorithms.\n",
    "* Improve Results.\n",
    "* Present Results.\n",
    "\n",
    "`Tasks` can be `combined` or `broken down further`, but this is the general structure. To work through `predictive modeling` machine learning problems in Python, you need to map Python onto this process. The tasks may need to be adapted or renamed slightly to suit the Python way of doing things (e.g. Pandas for data loading and scikit-learn for modeling). "
   ]
  },
  {
   "cell_type": "markdown",
   "metadata": {},
   "source": [
    "### Machine Learning Project Template in Python"
   ]
  },
  {
   "cell_type": "markdown",
   "metadata": {},
   "source": [
    "This section presents a project template that you can use to work through `machine learning problems` in Python end-to-end.\n",
    "\n",
    "### Python Project Template\n",
    "\n",
    "####  Prepare Problem\n",
    "* Load libraries\n",
    "* Load dataset\n",
    "\n",
    "#### Summarize Data\n",
    "\n",
    "* Descriptive statistics\n",
    "* Data visualizations\n",
    "\n",
    "#### Prepare Data\n",
    "\n",
    "* Data Cleaning\n",
    "* Feature Selection\n",
    "* Data Transforms\n",
    "\n",
    "#### Evaluate Algorithms\n",
    "* Split-out validation dataset\n",
    "* Test options and evaluation metric\n",
    "* Spot Check Algorithms\n",
    "* Compare Algorithms\n",
    "\n",
    "#### Improve Accuracy\n",
    "* Algorithm Tuning\n",
    "* Ensembles\n",
    "\n",
    "#### Finalize Model\n",
    "* Predictions on validation dataset\n",
    "* Create standalone model on entire training dataset\n",
    "* Save model for later use\n"
   ]
  },
  {
   "cell_type": "markdown",
   "metadata": {},
   "source": [
    "### Machine Learning Project Template Steps"
   ]
  },
  {
   "cell_type": "markdown",
   "metadata": {},
   "source": [
    "#### Prepare Problem"
   ]
  },
  {
   "cell_type": "markdown",
   "metadata": {},
   "source": [
    "This step is about `loading everything you need to start working on your problem`. This includes:\n",
    "\n",
    "* Python modules, classes and functions that you intend to use.\n",
    "* Loading your dataset from CSV.\n",
    "\n",
    "This is also the home of any `global configuration` you might need to do. It is also the place\n",
    "where you might need to make a `reduced sample of your dataset` if it is too large to work with.\n",
    "Ideally, your dataset should be `small enough` to build a `model` or `create a visualization` within a\n",
    "minute, ideally 30 seconds. You can always `scale up` well performing models later."
   ]
  },
  {
   "cell_type": "markdown",
   "metadata": {},
   "source": [
    "#### Summarize Data"
   ]
  },
  {
   "cell_type": "markdown",
   "metadata": {},
   "source": [
    "This step is about better `understanding the data` that you have available. This includes `understanding your data` using:\n",
    "\n",
    "* Descriptive statistics such as summaries.\n",
    "* Data visualizations such as plots with Matplotlib, ideally using convenience functions from\n",
    "Pandas.\n",
    "\n",
    "Take your time and use the `results to prompt a lot of questions`, `assumptions` and `hypotheses` that you can `investigate later with specialized models`."
   ]
  },
  {
   "cell_type": "markdown",
   "metadata": {},
   "source": [
    "#### Prepare Data\n",
    "\n",
    "This step is about `preparing the data` in such a way that it best `exposes the structure` of the `problem` and the `relationships` between your `input attributes` with the `output variable`. This includes tasks such as:\n",
    "\n",
    "* Cleaning data by `removing duplicates`, `marking missing values` and even `imputing missing values`.\n",
    "* `Feature selection` where `redundant features` may be removed and new features developed.\n",
    "* `Data transforms` where attributes are `scaled` or `redistributed` in order to best expose the `structure of the problem later to learning algorithms`.\n",
    "\n",
    "\n",
    "`Start simple`. Revisit this step often and cycle with the next step until you converge on a `subset of algorithms` and a `presentation of the data` that results in `accurate or accurate-enough models to proceed`."
   ]
  },
  {
   "cell_type": "markdown",
   "metadata": {},
   "source": [
    "#### Evaluate Algorithms\n",
    "\n",
    "This step is about `finding a subset of machine learning algorithms` that are good at `exploiting the structure` of your data (e.g. have better than average skill). This involves steps such as:\n",
    "\n",
    "* Separating out a `validation dataset` to use for later confirmation of the skill of your developed model.\n",
    "* Defining test options using `scikit-learn` such as `cross-validation` and the `evaluation metric` to use.\n",
    "* `Spot-checking` a suite of `linear and nonlinear machine learning algorithms`.\n",
    "* Comparing the estimated `accuracy of algorithms`.\n",
    "\n",
    "On a given problem you will likely spend most of your time on this and the previous step until you converge on a set of 3-to-5 well performing machine learning algorithms."
   ]
  },
  {
   "cell_type": "markdown",
   "metadata": {},
   "source": [
    "#### Improve Accuracy\n",
    "\n",
    "Once you have a shortlist of `machine learning algorithms`, you need to get the most out of them. There are two different ways to improve the `accuracy of your models`:\n",
    "\n",
    "* Search for a `combination of parameters` for each algorithm using scikit-learn that yields the best results.\n",
    "* Combine the prediction of `multiple models` into an `ensemble prediction` using `ensemble techniques`.\n",
    "\n",
    "The line between this and the previous step can blur when a project becomes concrete. There may be a little `algorithm tuning` in the previous step. And in the case of ensembles, you may bring more than a shortlist of algorithms forward to combine their predictions."
   ]
  },
  {
   "cell_type": "markdown",
   "metadata": {},
   "source": [
    "#### Finalize Model\n",
    "\n",
    "Once you have found a `model` that you believe can make `accurate predictions` on `unseen data`, you are ready to `finalize it`. Finalizing a model may involve sub-tasks such as:\n",
    "\n",
    "* Using an `optimal model` tuned by scikit-learn to make predictions on unseen data.\n",
    "* Creating a `standalone model` using the parameters tuned by scikit-learn.\n",
    "* Saving an `optimal model` to file for later use.\n",
    "\n",
    "Once you make it this far you are ready to present results to stakeholders and/or deploy your model to start making predictions on unseen data."
   ]
  },
  {
   "cell_type": "markdown",
   "metadata": {},
   "source": [
    "#### Tips For Using The Template Well\n",
    "\n",
    "Tips that you can use to make the most of the machine learning project template in Python\n",
    "\n",
    "* **Fast First Pass:** Make a first-pass through the project steps as fast as possible. This will give you confidence that you have all the parts that you need and a baseline from which to improve.\n",
    "\n",
    "* **Cycles:** The process in not `linear` but `cyclic`. You will `loop between steps`, and probably spend most of your time in `tight loops` between steps `3-4` or `3-4-5` until you achieve a `level of accuracy` that is sufficient or you run out of time.\n",
    "\n",
    "* **Attempt Every Step:** It is easy to skip steps, especially if you are not confident or familiar with the tasks of that step. Try and do something at each step in the process, even if it does not `improve accuracy`. You can always build upon it later. Don't skip steps, just reduce their contribution.\n",
    "\n",
    "* **Ratchet Accuracy:** The goal of the project is `model accuracy`. Every step contributes towards this goal. Treat changes that you make as experiments that `increase accuracy` as the golden path in the process and reorganize other steps around them. `Accuracy` is a ratchet that can only move in one direction (better, not worse).\n",
    "\n",
    "* **Adapt As Needed:** Modify the steps as you need on a project, especially as you become `more experienced` with the template. `Blur the edges of tasks`, such as steps `4-5` to best serve `model accuracy`."
   ]
  },
  {
   "cell_type": "code",
   "execution_count": null,
   "metadata": {},
   "outputs": [],
   "source": []
  },
  {
   "cell_type": "code",
   "execution_count": null,
   "metadata": {},
   "outputs": [],
   "source": []
  },
  {
   "cell_type": "code",
   "execution_count": null,
   "metadata": {},
   "outputs": [],
   "source": []
  }
 ],
 "metadata": {
  "kernelspec": {
   "display_name": "Python 3",
   "language": "python",
   "name": "python3"
  },
  "language_info": {
   "codemirror_mode": {
    "name": "ipython",
    "version": 3
   },
   "file_extension": ".py",
   "mimetype": "text/x-python",
   "name": "python",
   "nbconvert_exporter": "python",
   "pygments_lexer": "ipython3",
   "version": "3.7.3"
  }
 },
 "nbformat": 4,
 "nbformat_minor": 2
}
