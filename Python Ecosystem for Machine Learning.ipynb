{
 "cells": [
  {
   "cell_type": "markdown",
   "metadata": {},
   "source": [
    "A predictive modeling machine learning project can be broken down into 6 top-level tasks:\n",
    "\n",
    "* `Define Problem:` Investigate and characterize the problem in order to better understand\n",
    "the goals of the project.\n",
    "\n",
    "* `Analyze Data:` Use descriptive statistics and visualization to better understand the data\n",
    "you have available.\n",
    "\n",
    "* `Prepare Data:` Use data transforms in order to better expose the structure of the\n",
    "prediction problem to modeling algorithms.\n",
    "\n",
    "* `Evaluate Algorithms:` Design a test harness to evaluate a number of standard algorithms\n",
    "on the data and select the top few to investigate further.\n",
    "\n",
    "* `Improve Results:` Use algorithm tuning and ensemble methods to get the most out of\n",
    "well-performing algorithms on your data.\n",
    "\n",
    "* `Present Results:` Finalize the model, make predictions and present results."
   ]
  },
  {
   "cell_type": "markdown",
   "metadata": {},
   "source": [
    "The Python ecosystem is growing and may become the dominant platform for machine learning.\n",
    "The primary rationale for adopting Python for machine learning is because it is a general\n",
    "purpose programming language that you can use both for R&D and in production.\n",
    "\n",
    "* Python and its rising use for machine learning.\n",
    "\n",
    "* SciPy and the functionality it provides with NumPy, Matplotlib and Pandas.\n",
    "\n",
    "* scikit-learn that provides all of the machine learning algorithms.\n",
    "\n",
    "* How to setup your Python ecosystem for machine learning and what versions to use"
   ]
  },
  {
   "cell_type": "markdown",
   "metadata": {},
   "source": [
    "#### The philosophy of Python is captured in the Zen of Python which includes phrases like:"
   ]
  },
  {
   "cell_type": "markdown",
   "metadata": {},
   "source": [
    "* Beautiful is better than ugly.\n",
    "* Explicit is better than implicit.\n",
    "* Simple is better than complex.\n",
    "* Complex is better than complicated.\n",
    "* Flat is better than nested.\n",
    "* Sparse is better than dense.\n",
    "* Readability counts."
   ]
  },
  {
   "cell_type": "code",
   "execution_count": 12,
   "metadata": {},
   "outputs": [],
   "source": [
    "import this"
   ]
  },
  {
   "cell_type": "markdown",
   "metadata": {},
   "source": [
    "It is also widely used for machine learning and data science because of the excellent library\n",
    "support and because it is a general purpose programming language (unlike R or Matlab)."
   ]
  },
  {
   "cell_type": "markdown",
   "metadata": {},
   "source": [
    "## SciPy"
   ]
  },
  {
   "cell_type": "markdown",
   "metadata": {},
   "source": [
    "`SciPy` is an ecosystem of Python libraries for `mathematics`, `science` and `engineering`. It is an\n",
    "add-on to Python that you will need for `machine learning`. The `SciPy` ecosystem is comprised of\n",
    "the following core modules relevant to `machine learning`:"
   ]
  },
  {
   "cell_type": "markdown",
   "metadata": {},
   "source": [
    "* NumPy: A foundation for SciPy that allows you to efficiently work with data in arrays.\n",
    "    \n",
    "* Matplotlib: Allows you to create 2D charts and plots from data.\n",
    "    \n",
    "* Pandas: Tools and data structures to organize and analyze your data."
   ]
  },
  {
   "cell_type": "markdown",
   "metadata": {},
   "source": [
    "## scikit-learn"
   ]
  },
  {
   "cell_type": "markdown",
   "metadata": {},
   "source": [
    "The `scikit-learn` library is how you can develop and practice machine learning in Python. It is\n",
    "built upon and requires the `SciPy` ecosystem. The name `scikit` suggests that it is a SciPy plug-in\n",
    "or toolkit. The focus of the library is `machine learning algorithms` for `classification`, `regression`,\n",
    "`clustering` and more. It also provides tools for related tasks such as `evaluating models`, `tuning\n",
    "parameters` and `pre-processing data.`"
   ]
  },
  {
   "cell_type": "markdown",
   "metadata": {},
   "source": [
    "Some Installed Libraries "
   ]
  },
  {
   "cell_type": "code",
   "execution_count": 15,
   "metadata": {},
   "outputs": [
    {
     "name": "stdout",
     "output_type": "stream",
     "text": [
      "scipy: 1.4.1\n"
     ]
    }
   ],
   "source": [
    "# scipy\n",
    "import scipy\n",
    "print('scipy: {}'.format(scipy.__version__))"
   ]
  },
  {
   "cell_type": "code",
   "execution_count": 16,
   "metadata": {},
   "outputs": [
    {
     "name": "stdout",
     "output_type": "stream",
     "text": [
      "numpy: 1.16.2\n"
     ]
    }
   ],
   "source": [
    "# numpy\n",
    "import numpy\n",
    "print('numpy: {}'.format(numpy.__version__))"
   ]
  },
  {
   "cell_type": "code",
   "execution_count": 17,
   "metadata": {},
   "outputs": [
    {
     "name": "stdout",
     "output_type": "stream",
     "text": [
      "matplotlib: 3.0.3\n"
     ]
    }
   ],
   "source": [
    "# matplotlib\n",
    "import matplotlib\n",
    "print('matplotlib: {}'.format(matplotlib.__version__))"
   ]
  },
  {
   "cell_type": "code",
   "execution_count": 18,
   "metadata": {},
   "outputs": [
    {
     "name": "stdout",
     "output_type": "stream",
     "text": [
      "pandas: 0.25.3\n"
     ]
    }
   ],
   "source": [
    "# pandas\n",
    "import pandas\n",
    "print('pandas: {}'.format(pandas.__version__))"
   ]
  },
  {
   "cell_type": "code",
   "execution_count": 19,
   "metadata": {},
   "outputs": [
    {
     "name": "stdout",
     "output_type": "stream",
     "text": [
      "sklearn: 0.20.3\n"
     ]
    }
   ],
   "source": [
    "# scikit-learn\n",
    "import sklearn\n",
    "print('sklearn: {}'.format(sklearn.__version__))"
   ]
  },
  {
   "cell_type": "code",
   "execution_count": null,
   "metadata": {},
   "outputs": [],
   "source": []
  },
  {
   "cell_type": "code",
   "execution_count": null,
   "metadata": {},
   "outputs": [],
   "source": []
  }
 ],
 "metadata": {
  "kernelspec": {
   "display_name": "Python 3",
   "language": "python",
   "name": "python3"
  },
  "language_info": {
   "codemirror_mode": {
    "name": "ipython",
    "version": 3
   },
   "file_extension": ".py",
   "mimetype": "text/x-python",
   "name": "python",
   "nbconvert_exporter": "python",
   "pygments_lexer": "ipython3",
   "version": "3.7.3"
  }
 },
 "nbformat": 4,
 "nbformat_minor": 2
}
